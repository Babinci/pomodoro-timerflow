{
 "cells": [
  {
   "cell_type": "code",
   "execution_count": null,
   "metadata": {},
   "outputs": [
    {
     "data": {
      "text/plain": [
       "True"
      ]
     },
     "execution_count": 4,
     "metadata": {},
     "output_type": "execute_result"
    }
   ],
   "source": [
    "import os\n",
    "from dotenv import load_dotenv\n",
    "import os\n",
    "from supabase import create_client, Client\n",
    "\n",
    "load_dotenv(r\"C:\\Users\\walko\\IT_projects\\Supabase_with_mcp\\supabase\\docker\\.env\")\n",
    "\n",
    "supabase_url = \"http://localhost:8000\"\n",
    "supabase_key = os.getenv(\"ANON_KEY\")\n",
    "\n",
    "try:\n",
    "    # Initialize the client\n",
    "    supabase: Client = create_client(supabase_url, supabase_key)\n",
    "    print(f\"Supabase client initialized successfully with URL: {supabase_url} and key: {supabase_key[:10]}...\")\n",
    "    \n",
    "    response = supabase.table('babcia').select('*').limit(1).execute()\n",
    "    print(response)\n",
    "    \n",
    "except Exception as e:\n",
    "    print(f\"\\nFailed to connect or execute query: {e}\")\n",
    "    import traceback\n",
    "    traceback.print_exc()\n"
   ]
  },
  {
   "cell_type": "code",
   "execution_count": 5,
   "metadata": {},
   "outputs": [],
   "source": []
  },
  {
   "cell_type": "code",
   "execution_count": 6,
   "metadata": {},
   "outputs": [
    {
     "name": "stdout",
     "output_type": "stream",
     "text": [
      "Supabase client initialized successfully with URL: http://localhost:8000 and key: eyJhbGciOi...\n",
      "\n",
      "Failed to connect or execute query: {'message': 'Invalid authentication credentials'}\n"
     ]
    },
    {
     "name": "stderr",
     "output_type": "stream",
     "text": [
      "Traceback (most recent call last):\n",
      "  File \"C:\\Users\\walko\\AppData\\Local\\Temp\\ipykernel_18588\\2339039508.py\", line 6, in <module>\n",
      "    response = supabase.table('babcia').select('*').limit(1).execute()\n",
      "               ^^^^^^^^^^^^^^^^^^^^^^^^^^^^^^^^^^^^^^^^^^^^^^^^^^^^^^^\n",
      "  File \"c:\\Users\\walko\\IT_projects\\pomodoro-timerflow\\.venv\\Lib\\site-packages\\postgrest\\_sync\\request_builder.py\", line 78, in execute\n",
      "    raise APIError(r.json())\n",
      "postgrest.exceptions.APIError: {'message': 'Invalid authentication credentials'}\n"
     ]
    }
   ],
   "source": []
  },
  {
   "cell_type": "code",
   "execution_count": 9,
   "metadata": {},
   "outputs": [],
   "source": [
    "from supabase import create_client, Client\n",
    "from supabase.client import ClientOptions\n",
    "supabase: Client = create_client(\n",
    "    supabase_url,\n",
    "    supabase_key,\n",
    "    options=ClientOptions(\n",
    "        # schema=\"pomodoro\",\n",
    "    )\n",
    ")"
   ]
  },
  {
   "cell_type": "code",
   "execution_count": 3,
   "metadata": {},
   "outputs": [
    {
     "name": "stdout",
     "output_type": "stream",
     "text": [
      "\n",
      "Failed to connect or execute query: name 'create_client' is not defined\n"
     ]
    },
    {
     "name": "stderr",
     "output_type": "stream",
     "text": [
      "Traceback (most recent call last):\n",
      "  File \"C:\\Users\\walko\\AppData\\Local\\Temp\\ipykernel_18588\\2339039508.py\", line 3, in <module>\n",
      "    supabase: Client = create_client(supabase_url, supabase_key)\n",
      "                       ^^^^^^^^^^^^^\n",
      "NameError: name 'create_client' is not defined\n"
     ]
    }
   ],
   "source": []
  },
  {
   "cell_type": "code",
   "execution_count": 5,
   "metadata": {},
   "outputs": [
    {
     "ename": "APIError",
     "evalue": "{'message': 'Invalid authentication credentials'}",
     "output_type": "error",
     "traceback": [
      "\u001b[31m---------------------------------------------------------------------------\u001b[39m",
      "\u001b[31mAPIError\u001b[39m                                  Traceback (most recent call last)",
      "\u001b[36mCell\u001b[39m\u001b[36m \u001b[39m\u001b[32mIn[5]\u001b[39m\u001b[32m, line 4\u001b[39m\n\u001b[32m      1\u001b[39m result = \u001b[43msupabase\u001b[49m\u001b[43m.\u001b[49m\u001b[43mtable\u001b[49m\u001b[43m(\u001b[49m\u001b[33;43m\"\u001b[39;49m\u001b[33;43minformation_schema.tables\u001b[39;49m\u001b[33;43m\"\u001b[39;49m\u001b[43m)\u001b[49m\u001b[43m \u001b[49m\u001b[43m\\\u001b[49m\n\u001b[32m      2\u001b[39m \u001b[43m                \u001b[49m\u001b[43m.\u001b[49m\u001b[43mselect\u001b[49m\u001b[43m(\u001b[49m\u001b[33;43m\"\u001b[39;49m\u001b[33;43mtable_name\u001b[39;49m\u001b[33;43m\"\u001b[39;49m\u001b[43m)\u001b[49m\u001b[43m \u001b[49m\u001b[43m\\\u001b[49m\n\u001b[32m      3\u001b[39m \u001b[43m                \u001b[49m\u001b[43m.\u001b[49m\u001b[43meq\u001b[49m\u001b[43m(\u001b[49m\u001b[33;43m\"\u001b[39;49m\u001b[33;43mtable_schema\u001b[39;49m\u001b[33;43m\"\u001b[39;49m\u001b[43m,\u001b[49m\u001b[43m \u001b[49m\u001b[33;43m\"\u001b[39;49m\u001b[33;43mpomodoro\u001b[39;49m\u001b[33;43m\"\u001b[39;49m\u001b[43m)\u001b[49m\u001b[43m \u001b[49m\u001b[43m\\\u001b[49m\n\u001b[32m----> \u001b[39m\u001b[32m4\u001b[39m \u001b[43m                \u001b[49m\u001b[43m.\u001b[49m\u001b[43mexecute\u001b[49m\u001b[43m(\u001b[49m\u001b[43m)\u001b[49m\n\u001b[32m      6\u001b[39m tables = [record[\u001b[33m\"\u001b[39m\u001b[33mtable_name\u001b[39m\u001b[33m\"\u001b[39m] \u001b[38;5;28;01mfor\u001b[39;00m record \u001b[38;5;129;01min\u001b[39;00m result.data]\n\u001b[32m      7\u001b[39m \u001b[38;5;28mprint\u001b[39m(\u001b[33m\"\u001b[39m\u001b[33mTables in the \u001b[39m\u001b[33m'\u001b[39m\u001b[33mpomodoro\u001b[39m\u001b[33m'\u001b[39m\u001b[33m schema:\u001b[39m\u001b[33m\"\u001b[39m)\n",
      "\u001b[36mFile \u001b[39m\u001b[32mc:\\Users\\walko\\IT_projects\\pomodoro-timerflow\\.venv\\Lib\\site-packages\\postgrest\\_sync\\request_builder.py:78\u001b[39m, in \u001b[36mSyncQueryRequestBuilder.execute\u001b[39m\u001b[34m(self)\u001b[39m\n\u001b[32m     76\u001b[39m         \u001b[38;5;28;01mreturn\u001b[39;00m APIResponse[_ReturnT].from_http_request_response(r)\n\u001b[32m     77\u001b[39m     \u001b[38;5;28;01melse\u001b[39;00m:\n\u001b[32m---> \u001b[39m\u001b[32m78\u001b[39m         \u001b[38;5;28;01mraise\u001b[39;00m APIError(r.json())\n\u001b[32m     79\u001b[39m \u001b[38;5;28;01mexcept\u001b[39;00m ValidationError \u001b[38;5;28;01mas\u001b[39;00m e:\n\u001b[32m     80\u001b[39m     \u001b[38;5;28;01mraise\u001b[39;00m APIError(r.json()) \u001b[38;5;28;01mfrom\u001b[39;00m\u001b[38;5;250m \u001b[39m\u001b[34;01me\u001b[39;00m\n",
      "\u001b[31mAPIError\u001b[39m: {'message': 'Invalid authentication credentials'}"
     ]
    }
   ],
   "source": [
    "result = supabase.table(\"information_schema.tables\") \\\n",
    "                .select(\"table_name\") \\\n",
    "                .eq(\"table_schema\", \"pomodoro\") \\\n",
    "                .execute()\n",
    "\n",
    "tables = [record[\"table_name\"] for record in result.data]\n",
    "print(\"Tables in the 'pomodoro' schema:\")\n",
    "for table in tables:\n",
    "    print(f\"- {table}\")"
   ]
  },
  {
   "cell_type": "code",
   "execution_count": null,
   "metadata": {},
   "outputs": [],
   "source": []
  }
 ],
 "metadata": {
  "kernelspec": {
   "display_name": ".venv",
   "language": "python",
   "name": "python3"
  },
  "language_info": {
   "codemirror_mode": {
    "name": "ipython",
    "version": 3
   },
   "file_extension": ".py",
   "mimetype": "text/x-python",
   "name": "python",
   "nbconvert_exporter": "python",
   "pygments_lexer": "ipython3",
   "version": "3.12.9"
  }
 },
 "nbformat": 4,
 "nbformat_minor": 2
}
